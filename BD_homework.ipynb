{
  "cells": [
    {
      "attachments": {},
      "cell_type": "markdown",
      "metadata": {
        "id": "m9QWlN-lq0qw"
      },
      "source": [
        "# Практическая работа"
      ]
    },
    {
      "attachments": {},
      "cell_type": "markdown",
      "metadata": {
        "id": "4Nb7eTxYWWUe"
      },
      "source": [
        "# Задача"
      ]
    },
    {
      "attachments": {},
      "cell_type": "markdown",
      "metadata": {
        "id": "ug5TQChn6KiJ"
      },
      "source": [
        "Один из способов повысить эффективность взаимодействия банка с клиентами — отправлять предложение о новой услуге не всем клиентам, а только некоторым, которые выбираются по принципу наибольшей склонности к отклику на это предложение.\n",
        "\n",
        "Задача заключается в том, чтобы предложить алгоритм, который будет выдавать склонность клиента к положительному или отрицательному отклику на предложение банка. Предполагается, что, получив такие оценки для некоторого множества клиентов, банк обратится с предложением только к тем, от кого ожидается положительный отклик.\n"
      ]
    },
    {
      "attachments": {},
      "cell_type": "markdown",
      "metadata": {
        "id": "5k52FwP156I6"
      },
      "source": [
        "Для решения этой задачи загрузите файлы из базы в Postgres.\n",
        "Эта БД хранит информацию о клиентах банка и их персональные данные, такие как пол, количество детей и другие.\n",
        "\n",
        "Описание таблиц с данными представлено ниже.\n"
      ]
    },
    {
      "attachments": {},
      "cell_type": "markdown",
      "metadata": {
        "id": "3HYLpuwA6dAw"
      },
      "source": [
        "**D_work**\n",
        "\n",
        "Описание статусов относительно работы:\n",
        "- ID — идентификатор социального статуса клиента относительно работы;\n",
        "- COMMENT — расшифровка статуса.\n",
        "\n",
        "\n",
        "**D_pens**\n",
        "\n",
        "Описание статусов относительно пенсии:\n",
        "- ID — идентификатор социального статуса;\n",
        "- COMMENT — расшифровка статуса.\n",
        "\n",
        "\n",
        "**D_clients**\n",
        "\n",
        "Описание данных клиентов:\n",
        "- ID — идентификатор записи;\n",
        "- AGE\t— возраст клиента;\n",
        "- GENDER — пол клиента (1 — мужчина, 0 — женщина);\n",
        "- EDUCATION — образование;\n",
        "- MARITAL_STATUS — семейное положение;\n",
        "- CHILD_TOTAL\t— количество детей клиента;\n",
        "- DEPENDANTS — количество иждивенцев клиента;\n",
        "- SOCSTATUS_WORK_FL\t— социальный статус клиента относительно работы (1 — работает, 0 — не работает);\n",
        "- SOCSTATUS_PENS_FL\t— социальный статус клиента относительно пенсии (1 — пенсионер, 0 — не пенсионер);\n",
        "- REG_ADDRESS_PROVINCE — область регистрации клиента;\n",
        "- FACT_ADDRESS_PROVINCE — область фактического пребывания клиента;\n",
        "- POSTAL_ADDRESS_PROVINCE — почтовый адрес области;\n",
        "- FL_PRESENCE_FL — наличие в собственности квартиры (1 — есть, 0 — нет);\n",
        "- OWN_AUTO — количество автомобилей в собственности.\n",
        "\n",
        "\n",
        "**D_agreement**\n",
        "\n",
        "Таблица с зафиксированными откликами клиентов на предложения банка:\n",
        "- AGREEMENT_RK — уникальный идентификатор объекта в выборке;\n",
        "- ID_CLIENT — идентификатор клиента;\n",
        "- TARGET — целевая переменная: отклик на маркетинговую кампанию (1 — отклик был зарегистрирован, 0 — отклика не было).\n",
        "    \n",
        "    \n",
        "**D_job**\n",
        "\n",
        "Описание информации о работе клиентов:\n",
        "- GEN_INDUSTRY — отрасль работы клиента;\n",
        "- GEN_TITLE — должность;\n",
        "- JOB_DIR — направление деятельности внутри компании;\n",
        "- WORK_TIME — время работы на текущем месте (в месяцах);\n",
        "- ID_CLIENT — идентификатор клиента.\n",
        "\n",
        "\n",
        "**D_salary**\n",
        "\n",
        "Описание информации о заработной плате клиентов:\n",
        "- ID_CLIENT — идентификатор клиента;\n",
        "- FAMILY_INCOME — семейный доход (несколько категорий);\n",
        "- PERSONAL_INCOME — личный доход клиента (в рублях).\n",
        "\n",
        "\n",
        "**D_last_credit**\n",
        "\n",
        "Информация о последнем займе клиента:\n",
        "- ID_CLIENT — идентификатор клиента;\n",
        "- CREDIT — сумма последнего кредита клиента (в рублях);\n",
        "- TERM — срок кредита;\n",
        "- FST_PAYMENT — первоначальный взнос (в рублях).\n",
        "\n",
        "\n",
        "**D_loan**\n",
        "\n",
        "Информация о кредитной истории клиента:\n",
        "- ID_CLIENT — идентификатор клиента;\n",
        "- ID_LOAN — идентификатор кредита.\n",
        "\n",
        "**D_close_loan**\n",
        "\n",
        "Информация о статусах кредита (ссуд):\n",
        "- ID_LOAN — идентификатор кредита;\n",
        "- CLOSED_FL — текущий статус кредита (1 — закрыт, 0 — не закрыт)."
      ]
    },
    {
      "attachments": {},
      "cell_type": "markdown",
      "metadata": {
        "id": "aSCbvJeMKegU"
      },
      "source": [
        "Ниже представлен минимальный список колонок, которые должны находиться в итоговом датасете после склейки и агрегации данных. По своему усмотрению вы можете добавить дополнительные к этим колонки."
      ]
    },
    {
      "attachments": {},
      "cell_type": "markdown",
      "metadata": {
        "id": "xDZKZYCtmbwi"
      },
      "source": [
        "    - AGREEMENT_RK — уникальный идентификатор объекта в выборке;\n",
        "    - TARGET — целевая переменная: отклик на маркетинговую кампанию (1 — отклик был зарегистрирован, 0 — отклика не было);\n",
        "    - AGE — возраст клиента;\n",
        "    - SOCSTATUS_WORK_FL — социальный статус клиента относительно работы (1 — работает, 0 — не работает);\n",
        "    - SOCSTATUS_PENS_FL — социальный статус клиента относительно пенсии (1 — пенсионер, 0 — не пенсионер);\n",
        "    - GENDER — пол клиента (1 — мужчина, 0 — женщина);\n",
        "    - CHILD_TOTAL — количество детей клиента;\n",
        "    - DEPENDANTS — количество иждивенцев клиента;\n",
        "    - PERSONAL_INCOME — личный доход клиента (в рублях);\n",
        "    - LOAN_NUM_TOTAL — количество ссуд клиента;\n",
        "    - LOAN_NUM_CLOSED — количество погашенных ссуд клиента.\n"
      ]
    },
    {
      "attachments": {},
      "cell_type": "markdown",
      "metadata": {
        "id": "EDpojLFeAw2Y"
      },
      "source": [
        "Будьте внимательны при сборке датасета: это реальные банковские данные, в которых могут наблюдаться дубли, некорректно заполненные значения или значения, противоречащие друг другу. Для получения качественной модели необходимо предварительно очистить датасет от такой информации."
      ]
    },
    {
      "cell_type": "code",
      "execution_count": 1,
      "metadata": {},
      "outputs": [],
      "source": [
        "import pandas as pd\n",
        "import seaborn as sns\n",
        "import matplotlib.pyplot as plt"
      ]
    },
    {
      "attachments": {},
      "cell_type": "markdown",
      "metadata": {
        "id": "GERgJvyYmQEZ"
      },
      "source": [
        "## Задание 1\n",
        "\n",
        "Соберите всю информацию о клиентах в одну таблицу, где одна строчка соответствует полной информации об одном клиенте."
      ]
    },
    {
      "cell_type": "code",
      "execution_count": 2,
      "metadata": {},
      "outputs": [],
      "source": [
        "clients_df = pd.read_csv(\"datasets/D_clients.csv\")\n",
        "close_loan = pd.read_csv(\"datasets/D_close_loan.csv\")\n",
        "job_df = pd.read_csv(\"datasets/D_job.csv\")\n",
        "last_credit_df = pd.read_csv(\"datasets/D_close_loan.csv\")\n",
        "loan_df = pd.read_csv(\"datasets/D_loan.csv\")\n",
        "pens_df = pd.read_csv(\"datasets/D_pens.csv\")\n",
        "salary_df = pd.read_csv(\"datasets/D_salary.csv\")\n",
        "target_df = pd.read_csv(\"datasets/D_target.csv\")\n",
        "work_df = pd.read_csv(\"datasets/D_work.csv\")\n"
      ]
    },
    {
      "cell_type": "code",
      "execution_count": 3,
      "metadata": {},
      "outputs": [],
      "source": [
        "# (close_loan == last_credit_df).all()"
      ]
    },
    {
      "cell_type": "code",
      "execution_count": 4,
      "metadata": {},
      "outputs": [],
      "source": [
        "main_df = (\n",
        "    target_df\n",
        "        .merge(clients_df, left_on=\"ID_CLIENT\", right_on=\"ID\", how=\"left\")\n",
        "        .drop(\"ID\", axis=1)\n",
        "        .merge(job_df, on=\"ID_CLIENT\", how=\"left\")\n",
        "        .merge(loan_df, on=\"ID_CLIENT\", how=\"left\")\n",
        "        .merge(close_loan, on=\"ID_LOAN\", how=\"left\")\n",
        "        .merge(salary_df, on=\"ID_CLIENT\", how=\"left\")\n",
        "        .drop([ 'ID_CLIENT', 'EDUCATION',\n",
        "                'MARITAL_STATUS', 'REG_ADDRESS_PROVINCE', \n",
        "                'FACT_ADDRESS_PROVINCE', 'POSTAL_ADDRESS_PROVINCE', \n",
        "                'FL_PRESENCE_FL', 'OWN_AUTO', 'GEN_INDUSTRY',\n",
        "                'GEN_TITLE', 'JOB_DIR', 'WORK_TIME', 'ID_LOAN',\n",
        "                'FAMILY_INCOME'], axis=1))"
      ]
    },
    {
      "cell_type": "code",
      "execution_count": 5,
      "metadata": {},
      "outputs": [],
      "source": [
        "total_df = (\n",
        "    main_df\n",
        "        .groupby(['AGREEMENT_RK', 'TARGET',\n",
        "                'AGE', 'GENDER', 'CHILD_TOTAL',\n",
        "                'DEPENDANTS', 'SOCSTATUS_WORK_FL', \n",
        "                'SOCSTATUS_PENS_FL', 'PERSONAL_INCOME'], as_index=False)\n",
        "        .agg({'CLOSED_FL': \"count\"})\n",
        "        .rename(columns={\"CLOSED_FL\": \"LOAN_NUM_TOTAL\"}))\n",
        "\n",
        "total_df[\"LOAN_NUM_CLOSED\"] = (\n",
        "    main_df\n",
        "        .groupby(['AGREEMENT_RK', 'TARGET',\n",
        "                'AGE', 'GENDER', 'CHILD_TOTAL',\n",
        "                'DEPENDANTS', 'SOCSTATUS_WORK_FL', \n",
        "                'SOCSTATUS_PENS_FL', 'PERSONAL_INCOME'], as_index=False)\n",
        "        .agg({'CLOSED_FL': \"sum\"})[\"CLOSED_FL\"])"
      ]
    },
    {
      "cell_type": "code",
      "execution_count": 6,
      "metadata": {},
      "outputs": [],
      "source": [
        "total_df.to_csv(\"datasets/total_df.csv\")"
      ]
    },
    {
      "attachments": {},
      "cell_type": "markdown",
      "metadata": {
        "id": "I7jn6IYXx6M9"
      },
      "source": [
        "## Задание 2\n",
        "\n",
        "При помощи инструмента Streamlit проведите разведочный анализ данных. В него может входить:\n",
        "\n",
        "* построение графиков распределений признаков\n",
        "* построение матрицы корреляций\n",
        "* построение графиков зависимостей целевой переменной и признаков\n",
        "* вычисление числовых характеристик распределения числовых столбцов (среднее, min, max, медиана и так далее)\n",
        "* любые другие ваши идеи приветствуются!\n",
        "\n",
        "[Пример Streamlit-приложения](https://rateyourflight.streamlit.app) с разведочным анализом, прогнозом модели и оценкой ее результатов."
      ]
    }
  ],
  "metadata": {
    "colab": {
      "provenance": []
    },
    "kernelspec": {
      "display_name": "Python 3",
      "name": "python3"
    },
    "language_info": {
      "codemirror_mode": {
        "name": "ipython",
        "version": 3
      },
      "file_extension": ".py",
      "mimetype": "text/x-python",
      "name": "python",
      "nbconvert_exporter": "python",
      "pygments_lexer": "ipython3",
      "version": "3.10.13"
    }
  },
  "nbformat": 4,
  "nbformat_minor": 0
}
